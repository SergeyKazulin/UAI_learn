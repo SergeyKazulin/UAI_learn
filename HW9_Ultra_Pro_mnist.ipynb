{
  "nbformat": 4,
  "nbformat_minor": 2,
  "metadata": {
    "colab": {
      "name": "HW9_Ultra-Pro_Введение_в_нейронные_сети.ipynb",
      "provenance": [],
      "collapsed_sections": []
    },
    "kernelspec": {
      "name": "python3",
      "display_name": "Python 3"
    }
  },
  "cells": [
    {
      "cell_type": "code",
      "execution_count": null,
      "source": [
        "import numpy as np\r\n",
        "import matplotlib.pyplot as plt\r\n",
        "from tensorflow import keras\r\n",
        "#from google.colab import files\r\n",
        "from tensorflow.keras.datasets import mnist\r\n",
        "from tensorflow.keras.layers import Dense, Flatten\r\n",
        "from tensorflow.keras.preprocessing import image\r\n",
        "#from PIL import Image\r\n",
        "\r\n",
        "#%matplotlib inline"
      ],
      "outputs": [],
      "metadata": {
        "id": "tZqqQmUxslwr"
      }
    },
    {
      "cell_type": "code",
      "execution_count": null,
      "source": [
        "# Загрузка обучающей и тестовой выборок\r\n",
        "(X_train, y_train), (X_test, y_test) = mnist.load_data()"
      ],
      "outputs": [
        {
          "output_type": "stream",
          "name": "stdout",
          "text": [
            "Downloading data from https://storage.googleapis.com/tensorflow/tf-keras-datasets/mnist.npz\n",
            "11493376/11490434 [==============================] - 0s 0us/step\n"
          ]
        }
      ],
      "metadata": {
        "id": "2Vz9Hz-Gkg2I",
        "colab": {
          "base_uri": "https://localhost:8080/"
        },
        "outputId": "1fa26d59-98d6-472d-80e0-5f940606dff8"
      }
    },
    {
      "cell_type": "code",
      "execution_count": null,
      "source": [
        "# Смотрим размерность обучающего и тестового наборов\r\n",
        "print(f'X_train: {X_train.shape} \\n y_train: {y_train.shape}\\\r\n",
        "       \\n X_test: {X_test.shape} \\n y_test: {y_test.shape}')"
      ],
      "outputs": [
        {
          "output_type": "stream",
          "name": "stdout",
          "text": [
            "X_train: (60000, 28, 28) \n",
            " y_train: (60000,)       \n",
            " X_test: (10000, 28, 28) \n",
            " y_test: (10000,)\n"
          ]
        }
      ],
      "metadata": {
        "colab": {
          "base_uri": "https://localhost:8080/"
        },
        "id": "TY6h439vvqh7",
        "outputId": "d80888a4-eb89-4088-92fa-e7e75a78d571"
      }
    },
    {
      "cell_type": "code",
      "execution_count": null,
      "source": [
        "# Нормализация входных данных. Приводим к числам от 0 до 1\r\n",
        "X_train = (X_train / 255).astype('float32')\r\n",
        "X_test =  (X_test / 255).astype('float32')"
      ],
      "outputs": [],
      "metadata": {
        "id": "fb_jmfUYkm0f"
      }
    },
    {
      "cell_type": "code",
      "execution_count": null,
      "source": [
        "# Преобразование выходных значений в векторы по категориям (Hot Encoding)\r\n",
        "y_train_cat = keras.utils.to_categorical(y_train, 10)\r\n",
        "y_test_cat = keras.utils.to_categorical(y_test, 10)"
      ],
      "outputs": [],
      "metadata": {
        "id": "svBbv3PcLw29"
      }
    },
    {
      "cell_type": "code",
      "execution_count": null,
      "source": [
        "# Добавляем новую оссь к массиву\r\n",
        "X_train = np.expand_dims(X_train, axis=3)\r\n",
        "X_test = np.expand_dims(X_test, axis=3)"
      ],
      "outputs": [],
      "metadata": {
        "id": "Vp6Dq7wnlIWi"
      }
    },
    {
      "cell_type": "code",
      "execution_count": null,
      "source": [
        "# Конвертируем обучающий набор\r\n",
        "X_train = X_train.reshape(X_train.shape[0], 28, 28)"
      ],
      "outputs": [],
      "metadata": {
        "id": "dYZUBexxYppb"
      }
    },
    {
      "cell_type": "code",
      "execution_count": null,
      "source": [
        "# Размер y_train_cat\r\n",
        "y_train_cat.shape"
      ],
      "outputs": [
        {
          "output_type": "execute_result",
          "data": {
            "text/plain": [
              "(60000, 10)"
            ]
          },
          "metadata": {
            "tags": []
          },
          "execution_count": 9
        }
      ],
      "metadata": {
        "colab": {
          "base_uri": "https://localhost:8080/"
        },
        "id": "g0dscZyo3-bP",
        "outputId": "9af62d51-2747-4cb9-fb5e-25c81a0263bb"
      }
    },
    {
      "cell_type": "code",
      "execution_count": null,
      "source": [
        "# Пример одного выходного вектора\r\n",
        "y_train_cat[5]"
      ],
      "outputs": [
        {
          "output_type": "execute_result",
          "data": {
            "text/plain": [
              "array([0., 0., 1., 0., 0., 0., 0., 0., 0., 0.], dtype=float32)"
            ]
          },
          "metadata": {
            "tags": []
          },
          "execution_count": 10
        }
      ],
      "metadata": {
        "colab": {
          "base_uri": "https://localhost:8080/"
        },
        "id": "huP018tB411H",
        "outputId": "6f8ab5f8-e9f3-4ede-de9a-5d449e29a2da"
      }
    },
    {
      "cell_type": "code",
      "execution_count": null,
      "source": [
        "# выведем случайно выбранный набор из 24 изображений обучающего набора MNIST\r\n",
        "index = np.random.choice(np.arange(len(X_train)), 10, replace=False)\r\n",
        "figure, axes = plt.subplots(nrows=2, ncols=5, figsize=(16, 9))\r\n",
        "for item in zip(axes.ravel(), X_train, y_train):\r\n",
        "    axes, image, target = item\r\n",
        "    axes.imshow(image, cmap=plt.cm.gray_r)\r\n",
        "    axes.set_xticks([])  # remove x-axis tick marks\r\n",
        "    axes.set_yticks([])  # remove y-axis tick marks\r\n",
        "    axes.set_title(target,fontsize=20)\r\n",
        "plt.tight_layout()\r\n",
        "plt.show()"
      ],
      "outputs": [
        {
          "output_type": "display_data",
          "data": {
            "image/png": "[encoded data removed]",
            "text/plain": [
              "<Figure size 1152x648 with 10 Axes>"
            ]
          },
          "metadata": {
            "tags": []
          }
        }
      ],
      "metadata": {
        "colab": {
          "base_uri": "https://localhost:8080/",
          "height": 566
        },
        "id": "FXPDNMpZ0l6b",
        "outputId": "c0aeff38-9b93-4532-914a-92edaa46d3d8"
      }
    },
    {
      "cell_type": "code",
      "execution_count": null,
      "source": [
        "# Формирование модели NN\r\n",
        "model = keras.Sequential([\r\n",
        "    Flatten(input_shape=(28, 28, 1)),  # входной слой\r\n",
        "    Dense(256, activation='relu'),     # первый срытый слой  \r\n",
        "    Dense(128, activation='relu'),     # второйый срытый слой \r\n",
        "    Dense(64, activation='relu'),      # третий срытый слой \r\n",
        "    Dense(10, activation='softmax')    # выходной слой \r\n",
        "])"
      ],
      "outputs": [],
      "metadata": {
        "id": "7G_z3hJJDGlv"
      }
    },
    {
      "cell_type": "code",
      "execution_count": null,
      "source": [
        "# Компиляция NN\r\n",
        "model.compile(optimizer='adam', loss='categorical_crossentropy', metrics=['accuracy'])"
      ],
      "outputs": [],
      "metadata": {
        "id": "dd6hlBraDpdI"
      }
    },
    {
      "cell_type": "code",
      "execution_count": null,
      "source": [
        "# Обучаем\r\n",
        "hist_mod = model.fit(X_train, y_train_cat, batch_size=64, epochs=15, verbose=1)"
      ],
      "outputs": [
        {
          "output_type": "stream",
          "name": "stdout",
          "text": [
            "Epoch 1/15\n",
            "938/938 [==============================] - 4s 3ms/step - loss: 0.4413 - accuracy: 0.8692\n",
            "Epoch 2/15\n",
            "938/938 [==============================] - 3s 3ms/step - loss: 0.0945 - accuracy: 0.9714\n",
            "Epoch 3/15\n",
            "938/938 [==============================] - 3s 3ms/step - loss: 0.0581 - accuracy: 0.9817\n",
            "Epoch 4/15\n",
            "938/938 [==============================] - 3s 3ms/step - loss: 0.0456 - accuracy: 0.9851\n",
            "Epoch 5/15\n",
            "938/938 [==============================] - 3s 3ms/step - loss: 0.0334 - accuracy: 0.9889\n",
            "Epoch 6/15\n",
            "938/938 [==============================] - 3s 3ms/step - loss: 0.0301 - accuracy: 0.9903\n",
            "Epoch 7/15\n",
            "938/938 [==============================] - 3s 3ms/step - loss: 0.0225 - accuracy: 0.9927\n",
            "Epoch 8/15\n",
            "938/938 [==============================] - 3s 3ms/step - loss: 0.0203 - accuracy: 0.9932\n",
            "Epoch 9/15\n",
            "938/938 [==============================] - 3s 3ms/step - loss: 0.0186 - accuracy: 0.9941\n",
            "Epoch 10/15\n",
            "938/938 [==============================] - 3s 3ms/step - loss: 0.0167 - accuracy: 0.9946\n",
            "Epoch 11/15\n",
            "938/938 [==============================] - 3s 3ms/step - loss: 0.0139 - accuracy: 0.9956\n",
            "Epoch 12/15\n",
            "938/938 [==============================] - 3s 3ms/step - loss: 0.0127 - accuracy: 0.9956\n",
            "Epoch 13/15\n",
            "938/938 [==============================] - 3s 3ms/step - loss: 0.0095 - accuracy: 0.9970\n",
            "Epoch 14/15\n",
            "938/938 [==============================] - 3s 3ms/step - loss: 0.0125 - accuracy: 0.9964\n",
            "Epoch 15/15\n",
            "938/938 [==============================] - 3s 3ms/step - loss: 0.0110 - accuracy: 0.9963\n"
          ]
        }
      ],
      "metadata": {
        "colab": {
          "base_uri": "https://localhost:8080/"
        },
        "id": "X104HeOYDuBN",
        "outputId": "c2199250-5449-414a-94b2-4b56821eaf28"
      }
    },
    {
      "cell_type": "code",
      "execution_count": null,
      "source": [
        "# график показатель критерий качестваа для каждой эпохи\r\n",
        "plt.figure(figsize=(10, 6))\r\n",
        "plt.plot(hist_mod.history['loss'], color='green')\r\n",
        "plt.title('Критерий качества')\r\n",
        "plt.grid()\r\n",
        "plt.show()"
      ],
      "outputs": [
        {
          "output_type": "display_data",
          "data": {
            "image/png": "[encoded data removed]",
            "text/plain": [
              "<Figure size 720x432 with 1 Axes>"
            ]
          },
          "metadata": {
            "tags": [],
            "needs_background": "light"
          }
        }
      ],
      "metadata": {
        "colab": {
          "base_uri": "https://localhost:8080/",
          "height": 390
        },
        "id": "iGyzKqL2SWxo",
        "outputId": "a1213f26-69cf-4f5e-d9d2-5df5e93b761b"
      }
    },
    {
      "cell_type": "code",
      "execution_count": null,
      "source": [
        "# график показатель точности на обучающей выборке\r\n",
        "plt.figure(figsize=(10, 6))\r\n",
        "ax = plt.subplot(1, 1, 1)\r\n",
        "ax.plot(hist_mod.history['accuracy'], color='blue', label='Обучающая')\r\n",
        "ax.set_title('График Точности Выборок')\r\n",
        "ax.legend(loc='center right')\r\n",
        "plt.grid()\r\n",
        "plt.show()"
      ],
      "outputs": [
        {
          "output_type": "display_data",
          "data": {
            "image/png": "[encoded data removed]",
            "text/plain": [
              "<Figure size 720x432 with 1 Axes>"
            ]
          },
          "metadata": {
            "tags": [],
            "needs_background": "light"
          }
        }
      ],
      "metadata": {
        "colab": {
          "base_uri": "https://localhost:8080/",
          "height": 390
        },
        "id": "P9l01DDmQ2jC",
        "outputId": "a00dbd7d-0219-4309-fc30-dcbfff2baf68"
      }
    },
    {
      "cell_type": "code",
      "execution_count": null,
      "source": [
        "# точность модели можно проверить на данных, неизвестных модели. Вызовем метод evaluate моделиloss, \r\n",
        "accuracy = model.evaluate(X_test, y_test_cat)"
      ],
      "outputs": [
        {
          "output_type": "stream",
          "name": "stdout",
          "text": [
            "313/313 [==============================] - 1s 1ms/step - loss: 0.1039 - accuracy: 0.9804\n"
          ]
        }
      ],
      "metadata": {
        "colab": {
          "base_uri": "https://localhost:8080/"
        },
        "id": "Lwl3TwA8Tccu",
        "outputId": "eea1a625-4284-43d5-df4f-6956ce39973d"
      }
    },
    {
      "cell_type": "code",
      "execution_count": null,
      "source": [
        "# Проверка распознавания цифр. Подаем первое изображение.\r\n",
        "n = 805\r\n",
        "X = np.expand_dims(X_test[n], axis=0)   # создаем трехмерный тенсор\r\n",
        "res = model.predict(X)\r\n",
        "print(res)\r\n",
        "print(f'Распознанная цифра: {np.argmax(res)}')"
      ],
      "outputs": [
        {
          "output_type": "stream",
          "name": "stdout",
          "text": [
            "[[6.1794347e-10 7.0017728e-11 7.6674944e-10 2.4987875e-08 8.3177250e-12\n",
            "  1.2487993e-09 2.5630502e-12 5.7564123e-12 1.0000000e+00 1.8743516e-09]]\n",
            "Распознанная цифра: 8\n"
          ]
        }
      ],
      "metadata": {
        "colab": {
          "base_uri": "https://localhost:8080/"
        },
        "id": "x9iNMqQqD5ID",
        "outputId": "4d32eb01-d714-4292-93fa-1c8c7195815e"
      }
    },
    {
      "cell_type": "code",
      "execution_count": null,
      "source": [
        "# Вывод изображения\r\n",
        "X_test = X_test.reshape(X_test.shape[0], 28, 28)\r\n",
        "plt.figure(figsize=(5, 5))\r\n",
        "plt.imshow(X_test[n], cmap=plt.cm.binary)\r\n",
        "plt.show()"
      ],
      "outputs": [
        {
          "output_type": "display_data",
          "data": {
            "image/png": "[encoded data removed]",
            "text/plain": [
              "<Figure size 360x360 with 1 Axes>"
            ]
          },
          "metadata": {
            "tags": [],
            "needs_background": "light"
          }
        }
      ],
      "metadata": {
        "colab": {
          "base_uri": "https://localhost:8080/",
          "height": 320
        },
        "id": "dFZLWizGHFt9",
        "outputId": "4b9db6b2-07e5-4733-8604-64ccf75c4bae"
      }
    },
    {
      "cell_type": "code",
      "execution_count": null,
      "source": [
        "# загружаем свою картинку\r\n",
        "img = image.load_img('/content/drive/MyDrive/UAI/Data_CSV/photo_num_4.jpg', target_size=(28, 28), color_mode='grayscale')"
      ],
      "outputs": [],
      "metadata": {
        "id": "01bX1hnQHlu0"
      }
    },
    {
      "cell_type": "code",
      "execution_count": null,
      "source": [
        "plt.imshow(img.convert('RGBA'))\r\n",
        "plt.show()"
      ],
      "outputs": [
        {
          "output_type": "display_data",
          "data": {
            "image/png": "[encoded data removed]",
            "text/plain": [
              "<Figure size 432x288 with 1 Axes>"
            ]
          },
          "metadata": {
            "tags": [],
            "needs_background": "light"
          }
        }
      ],
      "metadata": {
        "id": "7weOFuWWHlzD",
        "colab": {
          "base_uri": "https://localhost:8080/",
          "height": 265
        },
        "outputId": "84951ef1-ecee-45f8-8aa4-b87c812e6007"
      }
    },
    {
      "cell_type": "code",
      "execution_count": null,
      "source": [
        "# Преобразуем img в массив\r\n",
        "num = image.img_to_array(img)\r\n",
        "# Преобразуем в вектор\r\n",
        "num = num.reshape(1, 28, 28)\r\n",
        "# инвертируем\r\n",
        "num = 255 - num\r\n",
        "# Нормализуем\r\n",
        "num /= 255"
      ],
      "outputs": [],
      "metadata": {
        "id": "rhWTXHAGHl3M"
      }
    },
    {
      "cell_type": "code",
      "execution_count": null,
      "source": [
        "# Предсказываем и выводим результат\n",
        "pred = model.predict(num)\n",
        "print(np.argmax(pred))"
      ],
      "outputs": [
        {
          "output_type": "stream",
          "name": "stdout",
          "text": [
            "4\n"
          ]
        }
      ],
      "metadata": {
        "id": "bXr3IFXra_TY",
        "colab": {
          "base_uri": "https://localhost:8080/"
        },
        "outputId": "abf74b93-303f-45f0-9d68-a22e0e7b0033"
      }
    },
    {
      "cell_type": "code",
      "execution_count": null,
      "source": [
        "# Выводим предсказанное изображение\n",
        "num = num.reshape(28, 28)\n",
        "plt.figure(figsize=(3, 3))\n",
        "plt.imshow(num, cmap=plt.cm.binary)\n",
        "plt.show()"
      ],
      "outputs": [
        {
          "output_type": "display_data",
          "data": {
            "image/png": "[encoded data removed]",
            "text/plain": [
              "<Figure size 216x216 with 1 Axes>"
            ]
          },
          "metadata": {
            "tags": [],
            "needs_background": "light"
          }
        }
      ],
      "metadata": {
        "colab": {
          "base_uri": "https://localhost:8080/",
          "height": 212
        },
        "id": "RFTZvNDsb-7h",
        "outputId": "05f921f2-df38-4684-f750-39c5bf4e10b2"
      }
    },
    {
      "cell_type": "code",
      "execution_count": null,
      "source": [
        "# Сверяем с изображением с картинки\n",
        "plt.figure(figsize=(3, 3))\n",
        "plt.imshow(img.convert('RGBA'))\n",
        "plt.show()"
      ],
      "outputs": [
        {
          "output_type": "display_data",
          "data": {
            "image/png": "[encoded data removed]",
            "text/plain": [
              "<Figure size 216x216 with 1 Axes>"
            ]
          },
          "metadata": {
            "tags": [],
            "needs_background": "light"
          }
        }
      ],
      "metadata": {
        "colab": {
          "base_uri": "https://localhost:8080/",
          "height": 212
        },
        "id": "_O83CfP0QWK7",
        "outputId": "e3d8b818-1a46-4acd-b450-7b9ee59b19cc"
      }
    }
  ]
}