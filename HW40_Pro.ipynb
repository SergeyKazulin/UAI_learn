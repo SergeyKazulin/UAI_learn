{
  "nbformat": 4,
  "nbformat_minor": 2,
  "metadata": {
    "orig_nbformat": 4,
    "language_info": {
      "name": "python",
      "version": "3.9.6",
      "mimetype": "text/x-python",
      "codemirror_mode": {
        "name": "ipython",
        "version": 3
      },
      "pygments_lexer": "ipython3",
      "nbconvert_exporter": "python",
      "file_extension": ".py"
    },
    "kernelspec": {
      "name": "python3",
      "display_name": "Python 3.9.6 64-bit"
    },
    "interpreter": {
      "hash": "1fd08382e8a33f72ca1534f37cc676971cd08f10e95c9ad4e218a4e680a32ea8"
    },
    "colab": {
      "name": "HW40_Pro.ipynb",
      "provenance": [],
      "collapsed_sections": []
    }
  },
  "cells": [
    {
      "cell_type": "code",
      "execution_count": null,
      "source": [
        "class Airbase:\r\n",
        "    def __init__(self, visibility, cloud_height):\r\n",
        "        self.visibility = visibility\r\n",
        "        self.cloud_height = cloud_height\r\n",
        "\r\n",
        "    def airbase(self, airbase):\r\n",
        "        self.airbase = airbase\r\n",
        "\r\n",
        "        return airbase\r\n",
        "    \r\n",
        "    \r\n",
        "    def date(self, date):\r\n",
        "        self.date = date\r\n",
        "\r\n",
        "        return self.date\r\n",
        "\r\n",
        "    def meteo(self):\r\n",
        "        if self.visibility >= 2000 and self.cloud_height >= 200:\r\n",
        "            print(f'Погода: {self.visibility} на {self.cloud_height}. Вылет разрешен.')\r\n",
        "        else:\r\n",
        "            print('Вылет запрещен')\r\n"
      ],
      "outputs": [],
      "metadata": {
        "id": "Qfahr70OAd9o"
      }
    },
    {
      "cell_type": "code",
      "execution_count": null,
      "source": [
        "airb = Airbase(2500, 250)\r\n",
        "\r\n",
        "print(f\"Аэропорт: {airb.airbase('Kabul')}\")\r\n",
        "print(f'Дата вылета: {airb.date(\"24.12.1988\")}')\r\n",
        "print(airb.meteo())"
      ],
      "outputs": [
        {
          "output_type": "stream",
          "name": "stdout",
          "text": [
            "Аэропорт: Kabul\n",
            "Дата вылета: 24.12.1988\n",
            "Погода: 2500 на 250. Вылет разрешен.\n",
            "None\n"
          ]
        }
      ],
      "metadata": {
        "id": "8UWudEjDAd9u",
        "outputId": "b763be41-e3ed-41b8-e150-087c7345c904"
      }
    },
    {
      "cell_type": "code",
      "execution_count": null,
      "source": [
        "class Helicopters:\r\n",
        "\r\n",
        "    def __init__(self, air_departure):\r\n",
        "        self.air_departure = air_departure\r\n",
        "        print('Вылет на обеспечение постов')\r\n",
        "\r\n",
        "class Mi8(Helicopters):\r\n",
        "    \r\n",
        "    def __init__(self, board_number):\r\n",
        "        super().__init__(board_number)\r\n",
        "        self.board_number = board_number\r\n",
        "        print(f'Борт номер: {self.board_number}')\r\n",
        "\r\n",
        "    def crew_Mi8(self, commander, pilot_operator, flight_technician):\r\n",
        "        self.commander = commander\r\n",
        "        self.pilot_operator = pilot_operator\r\n",
        "        self.flight_technician = flight_technician\r\n",
        "\r\n",
        "        return commander, pilot_operator, flight_technician\r\n",
        "\r\n",
        "    \r\n",
        "    def refueling_Mi8(self, refueling):\r\n",
        "        self.refueling = refueling\r\n",
        "        #loading = super().loading()\r\n",
        "        \r\n",
        "        return self.refueling\r\n",
        "\r\n",
        "    \r\n",
        "    def loading_Mi8(self, loading):\r\n",
        "        self.loading = loading\r\n",
        "        \r\n",
        "        return self.loading\r\n",
        "\r\n",
        "    \r\n",
        "    def task_Mi8(self, task):\r\n",
        "        self.task = task\r\n",
        "        \r\n",
        "        return self.task\r\n",
        "\r\n",
        "\r\n",
        "class Mi24(Helicopters):\r\n",
        "    \r\n",
        "    def __init__(self, board_number  ):\r\n",
        "        super().__init__(board_number)\r\n",
        "        self.board_number = board_number\r\n",
        "        print(f'Борт номер: {self.board_number}')\r\n",
        "\r\n",
        "\r\n",
        "    def crew_Mi24(self, commander, pilot_operator, flight_technician):\r\n",
        "        self.commander = commander\r\n",
        "        self.pilot_operator = pilot_operator\r\n",
        "        self.flight_technician = flight_technician\r\n",
        "\r\n",
        "        return commander, pilot_operator, flight_technician\r\n",
        "    \r\n",
        "    \r\n",
        "    def refueling_Mi24(self, refueling):\r\n",
        "        self.refueling = refueling\r\n",
        "        \r\n",
        "        return self.refueling\r\n",
        "\r\n",
        "    \r\n",
        "    def loading_Mi24(self, loading):\r\n",
        "        self.loading = loading\r\n",
        "        \r\n",
        "        return self.loading\r\n",
        "\r\n",
        "    \r\n",
        "    def task_Mi24(self, task):\r\n",
        "        self.task = task\r\n",
        "        \r\n",
        "        return self.task\r\n"
      ],
      "outputs": [],
      "metadata": {
        "id": "gGsrK25uAd9w"
      }
    },
    {
      "cell_type": "code",
      "execution_count": null,
      "source": [
        "helicopter_Mi8 = Mi8(45)\r\n",
        "print('Вертолет Mи-8')\r\n",
        "print(f'Экипаж: {helicopter_Mi8.crew_Mi8(\"Казюлин\", \"Мачильский\", \"Алишкевич\")}')\r\n",
        "print(f'Заправка: {helicopter_Mi8.refueling_Mi8(1200)} л.')\r\n",
        "print(f'Загрузка: {helicopter_Mi8.loading_Mi8(1500)} кг.')\r\n",
        "print(f'Задача: {helicopter_Mi8.task_Mi8(\"Обеспечение постов. Пост № 41(H=3120 м), Вода=800 кг, Продукты=300кг, Боеприпасы=300 кг, Дрова=100 кг\")}')\r\n",
        "print('_____________________________________________________________________________________________________________________________________________')\r\n",
        "helicopter_Mi24 = Mi24(17)\r\n",
        "print('Вертолет Mи-24')\r\n",
        "print(f'Экипаж: {helicopter_Mi24.crew_Mi24(\"Козлов\", \"Домаев\", \"Ботнев\")}')\r\n",
        "print(f'Заправка: {helicopter_Mi24.refueling_Mi24(1200)} л.')\r\n",
        "print(f'Загрузка: {helicopter_Mi24.loading_Mi24(\"С-5, УБ-32=4 блока., Пушка=полная зарядка\")}.')\r\n",
        "print(f'Задача: {helicopter_Mi24.task_Mi24(\"Обеспечение постов. Прикрытие Ми-8\")}')\r\n"
      ],
      "outputs": [
        {
          "output_type": "stream",
          "name": "stdout",
          "text": [
            "Вылет на обеспечение постов\n",
            "Борт номер: 45\n",
            "Вертолет Mи-8\n",
            "Экипаж: ('Казюлин', 'Мачильский', 'Алишкевич')\n",
            "Заправка: 1200 л.\n",
            "Загрузка: 1500 кг.\n",
            "Задача: Обеспечение постов. Пост № 41(H=3120 м), Вода=800 кг, Продукты=300кг, Боеприпасы=300 кг, Дрова=100 кг\n",
            "_____________________________________________________________________________________________________________________________________________\n",
            "Вылет на обеспечение постов\n",
            "Борт номер: 17\n",
            "Вертолет Mи-24\n",
            "Экипаж: ('Козлов', 'Домаев', 'Ботнев')\n",
            "Заправка: 1200 л.\n",
            "Загрузка: С-5, УБ-32=4 блока., Пушка=полная зарядка.\n",
            "Задача: Обеспечение постов. Прикрытие Ми-8\n"
          ]
        }
      ],
      "metadata": {
        "id": "ULEiqGxCAd9x",
        "outputId": "767cd1cd-bbc8-4b3b-9061-df26d4c2a6ae"
      }
    },
    {
      "cell_type": "code",
      "execution_count": null,
      "source": [],
      "outputs": [],
      "metadata": {
        "id": "qTPv3QCSAd9z"
      }
    }
  ]
}